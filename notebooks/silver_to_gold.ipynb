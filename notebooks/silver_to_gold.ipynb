{
 "cells": [
  {
   "cell_type": "code",
   "execution_count": null,
   "id": "adf69c95-90f3-4336-a1e7-37868ea7f92b",
   "metadata": {},
   "outputs": [],
   "source": [
    "# PySpark transformations: Silver → Gold (aggregations)\n",
    "\n",
    "from pyspark.sql.window import Window\n",
    "from pyspark.sql.functions import avg\n",
    "\n",
    "# Paths\n",
    "silver_path = \"abfss://silver@energydatalaketest.dfs.core.windows.net/load/\"\n",
    "gold_path   = \"abfss://gold@energydatalaketest.dfs.core.windows.net/load/\"\n",
    "\n",
    "# Read from Silver\n",
    "df_silver = spark.read.format(\"delta\").load(silver_path)\n",
    "\n",
    "# Create 7-day moving average window (168 hours)\n",
    "windowSpec = Window.partitionBy(\"region\").orderBy(\"ts\").rowsBetween(-168, 0)\n",
    "\n",
    "df_gold = (\n",
    "    df_silver.withColumn(\"mw_7d_avg\", avg(\"mw\").over(windowSpec))\n",
    ")\n",
    "\n",
    "# Save as Delta to Gold\n",
    "df_gold.write.format(\"delta\").mode(\"overwrite\").save(gold_path)\n"
   ]
  }
 ],
 "metadata": {
  "kernelspec": {
   "display_name": "Python 3 (ipykernel)",
   "language": "python",
   "name": "python3"
  },
  "language_info": {
   "codemirror_mode": {
    "name": "ipython",
    "version": 3
   },
   "file_extension": ".py",
   "mimetype": "text/x-python",
   "name": "python",
   "nbconvert_exporter": "python",
   "pygments_lexer": "ipython3",
   "version": "3.13.5"
  }
 },
 "nbformat": 4,
 "nbformat_minor": 5
}
