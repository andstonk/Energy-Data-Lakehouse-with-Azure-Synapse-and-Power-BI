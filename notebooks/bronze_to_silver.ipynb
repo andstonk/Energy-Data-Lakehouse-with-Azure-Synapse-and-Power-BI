{
 "cells": [
  {
   "cell_type": "code",
   "execution_count": null,
   "id": "adf69c95-90f3-4336-a1e7-37868ea7f92b",
   "metadata": {},
   "outputs": [],
   "source": [
    "# PySpark transformations: Bronze → Silver\n",
    "\n",
    "from pyspark.sql.functions import col, to_timestamp\n",
    "\n",
    "# Paths\n",
    "bronze_path = \"abfss://bronze@energydatalaketest.dfs.core.windows.net/load/\"\n",
    "silver_path = \"abfss://silver@energydatalaketest.dfs.core.windows.net/load/\"\n",
    "\n",
    "# Read raw JSON from Bronze\n",
    "df_raw = spark.read.json(bronze_path)\n",
    "\n",
    "# Explode + Clean schema\n",
    "df_silver = (\n",
    "    df_raw.selectExpr(\"explode(response_data) AS data\")\n",
    "          .select(\n",
    "              to_timestamp(col(\"data.period\")).alias(\"ts\"),\n",
    "              col(\"data.respondent\").alias(\"region\"),\n",
    "              col(\"data.`type`\").alias(\"type\"),\n",
    "              col(\"data.`type-name`\").alias(\"type_name\"),\n",
    "              col(\"data.value\").cast(\"double\").alias(\"mw\"),\n",
    "              col(\"data.`value-units`\").alias(\"unit\")\n",
    "          )\n",
    "          .dropna(subset=[\"ts\", \"mw\"])\n",
    ")\n",
    "\n",
    "# Save as Delta to Silver\n",
    "df_silver.write.format(\"delta\").mode(\"overwrite\").save(silver_path)\n"
   ]
  }
 ],
 "metadata": {
  "kernelspec": {
   "display_name": "Python 3 (ipykernel)",
   "language": "python",
   "name": "python3"
  },
  "language_info": {
   "codemirror_mode": {
    "name": "ipython",
    "version": 3
   },
   "file_extension": ".py",
   "mimetype": "text/x-python",
   "name": "python",
   "nbconvert_exporter": "python",
   "pygments_lexer": "ipython3",
   "version": "3.13.5"
  }
 },
 "nbformat": 4,
 "nbformat_minor": 5
}
